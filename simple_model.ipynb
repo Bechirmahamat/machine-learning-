{
  "nbformat": 4,
  "nbformat_minor": 0,
  "metadata": {
    "colab": {
      "provenance": []
    },
    "kernelspec": {
      "name": "python3",
      "display_name": "Python 3"
    },
    "language_info": {
      "name": "python"
    }
  },
  "cells": [
    {
      "cell_type": "code",
      "execution_count": 53,
      "metadata": {
        "id": "y4WvMlDHU4NG"
      },
      "outputs": [],
      "source": [
        " from sklearn.datasets import load_iris\n",
        " iris=load_iris()\n",
        " x=iris.data\n",
        " col_names=iris.feature_names\n",
        " target_nme=iris.target_names\n",
        "\n",
        ""
      ]
    },
    {
      "cell_type": "code",
      "source": [
        "print(\"first 10 rows:\\n\",x[:10])"
      ],
      "metadata": {
        "colab": {
          "base_uri": "https://localhost:8080/"
        },
        "id": "ufoec7aEVvsw",
        "outputId": "82a819f9-ba38-40ad-9b33-04b9ef490717"
      },
      "execution_count": 54,
      "outputs": [
        {
          "output_type": "stream",
          "name": "stdout",
          "text": [
            "first 10 rows:\n",
            " [[5.1 3.5 1.4 0.2]\n",
            " [4.9 3.  1.4 0.2]\n",
            " [4.7 3.2 1.3 0.2]\n",
            " [4.6 3.1 1.5 0.2]\n",
            " [5.  3.6 1.4 0.2]\n",
            " [5.4 3.9 1.7 0.4]\n",
            " [4.6 3.4 1.4 0.3]\n",
            " [5.  3.4 1.5 0.2]\n",
            " [4.4 2.9 1.4 0.2]\n",
            " [4.9 3.1 1.5 0.1]]\n"
          ]
        }
      ]
    },
    {
      "cell_type": "code",
      "source": [
        "import pandas as pd\n",
        "from sklearn.datasets import load_iris\n",
        "iris=load_iris();\n",
        "\n",
        "df=pd.DataFrame(data=iris.data,columns=iris.feature_names)"
      ],
      "metadata": {
        "id": "j09hjuzxbcrb"
      },
      "execution_count": 55,
      "outputs": []
    },
    {
      "cell_type": "code",
      "source": [
        "print(df)"
      ],
      "metadata": {
        "colab": {
          "base_uri": "https://localhost:8080/"
        },
        "id": "_00LSb0mcAcg",
        "outputId": "eeac8d07-2db3-4572-d9ad-885453e46d27"
      },
      "execution_count": 56,
      "outputs": [
        {
          "output_type": "stream",
          "name": "stdout",
          "text": [
            "     sepal length (cm)  sepal width (cm)  petal length (cm)  petal width (cm)\n",
            "0                  5.1               3.5                1.4               0.2\n",
            "1                  4.9               3.0                1.4               0.2\n",
            "2                  4.7               3.2                1.3               0.2\n",
            "3                  4.6               3.1                1.5               0.2\n",
            "4                  5.0               3.6                1.4               0.2\n",
            "..                 ...               ...                ...               ...\n",
            "145                6.7               3.0                5.2               2.3\n",
            "146                6.3               2.5                5.0               1.9\n",
            "147                6.5               3.0                5.2               2.0\n",
            "148                6.2               3.4                5.4               2.3\n",
            "149                5.9               3.0                5.1               1.8\n",
            "\n",
            "[150 rows x 4 columns]\n"
          ]
        }
      ]
    },
    {
      "cell_type": "code",
      "source": [
        "df.head()\n",
        "df.shape\n",
        "df.plot.scatter(x='petal length (cm)',y='petal width (cm)',title='scatterPlot')\n",
        "print(df.corr())\n",
        "print(df.describe())"
      ],
      "metadata": {
        "colab": {
          "base_uri": "https://localhost:8080/",
          "height": 1000
        },
        "id": "1xWm6sS0cOsB",
        "outputId": "aff0e33b-3ef4-4812-821b-0cf30bab1af0"
      },
      "execution_count": 57,
      "outputs": [
        {
          "output_type": "stream",
          "name": "stdout",
          "text": [
            "                   sepal length (cm)  sepal width (cm)  petal length (cm)  \\\n",
            "sepal length (cm)           1.000000         -0.117570           0.871754   \n",
            "sepal width (cm)           -0.117570          1.000000          -0.428440   \n",
            "petal length (cm)           0.871754         -0.428440           1.000000   \n",
            "petal width (cm)            0.817941         -0.366126           0.962865   \n",
            "\n",
            "                   petal width (cm)  \n",
            "sepal length (cm)          0.817941  \n",
            "sepal width (cm)          -0.366126  \n",
            "petal length (cm)          0.962865  \n",
            "petal width (cm)           1.000000  \n",
            "       sepal length (cm)  sepal width (cm)  petal length (cm)  \\\n",
            "count         150.000000        150.000000         150.000000   \n",
            "mean            5.843333          3.057333           3.758000   \n",
            "std             0.828066          0.435866           1.765298   \n",
            "min             4.300000          2.000000           1.000000   \n",
            "25%             5.100000          2.800000           1.600000   \n",
            "50%             5.800000          3.000000           4.350000   \n",
            "75%             6.400000          3.300000           5.100000   \n",
            "max             7.900000          4.400000           6.900000   \n",
            "\n",
            "       petal width (cm)  \n",
            "count        150.000000  \n",
            "mean           1.199333  \n",
            "std            0.762238  \n",
            "min            0.100000  \n",
            "25%            0.300000  \n",
            "50%            1.300000  \n",
            "75%            1.800000  \n",
            "max            2.500000  \n"
          ]
        },
        {
          "output_type": "display_data",
          "data": {
            "text/plain": [
              "<Figure size 640x480 with 1 Axes>"
            ],
            "image/png": "[encoded data removed]"
          },
          "metadata": {}
        }
      ]
    },
    {
      "cell_type": "code",
      "source": [
        "# pre processing\n",
        "Y=df['petal width (cm)'].values.reshape(-1,1)\n",
        "X=df['petal length (cm)'].values.reshape(-1,1)\n",
        "from sklearn.model_selection import train_test_split\n",
        "x_train,x_test,y_train,y_test=train_test_split(X,Y,test_size=0.2)\n"
      ],
      "metadata": {
        "id": "VUv5xl3MhJUS"
      },
      "execution_count": 58,
      "outputs": []
    },
    {
      "cell_type": "code",
      "source": [
        "print(x_train)\n"
      ],
      "metadata": {
        "colab": {
          "base_uri": "https://localhost:8080/"
        },
        "id": "moLlGcS3hvVD",
        "outputId": "7b5e859a-3f09-4104-e29d-3ce012eb4eac"
      },
      "execution_count": 59,
      "outputs": [
        {
          "output_type": "stream",
          "name": "stdout",
          "text": [
            "[[5.6]\n",
            " [4.8]\n",
            " [1.5]\n",
            " [4.5]\n",
            " [1.4]\n",
            " [4.7]\n",
            " [4.7]\n",
            " [4.5]\n",
            " [1.2]\n",
            " [5. ]\n",
            " [1.3]\n",
            " [1.5]\n",
            " [1.5]\n",
            " [1.4]\n",
            " [4.6]\n",
            " [1.3]\n",
            " [6.1]\n",
            " [5.8]\n",
            " [1. ]\n",
            " [1.4]\n",
            " [3.8]\n",
            " [6.1]\n",
            " [4.1]\n",
            " [4.8]\n",
            " [4. ]\n",
            " [1.6]\n",
            " [4.8]\n",
            " [5.1]\n",
            " [1.4]\n",
            " [4.4]\n",
            " [4.3]\n",
            " [1.6]\n",
            " [1.4]\n",
            " [5.1]\n",
            " [4.1]\n",
            " [5. ]\n",
            " [1.5]\n",
            " [1.3]\n",
            " [5.6]\n",
            " [1.5]\n",
            " [1.4]\n",
            " [3.9]\n",
            " [1.5]\n",
            " [1.5]\n",
            " [1.3]\n",
            " [1.7]\n",
            " [5.7]\n",
            " [3.5]\n",
            " [5.3]\n",
            " [4.9]\n",
            " [1.4]\n",
            " [1.6]\n",
            " [4.3]\n",
            " [6.1]\n",
            " [1.5]\n",
            " [1.6]\n",
            " [4.9]\n",
            " [1.3]\n",
            " [3.3]\n",
            " [1.5]\n",
            " [4.5]\n",
            " [6. ]\n",
            " [4. ]\n",
            " [1.6]\n",
            " [1.6]\n",
            " [5. ]\n",
            " [4. ]\n",
            " [1.4]\n",
            " [1.5]\n",
            " [4.7]\n",
            " [3.5]\n",
            " [4.5]\n",
            " [4.1]\n",
            " [6.7]\n",
            " [6.6]\n",
            " [1.7]\n",
            " [3.3]\n",
            " [4.6]\n",
            " [5.8]\n",
            " [4.2]\n",
            " [1.5]\n",
            " [4.9]\n",
            " [5.1]\n",
            " [4.5]\n",
            " [4.5]\n",
            " [5.6]\n",
            " [4.2]\n",
            " [3.7]\n",
            " [6.9]\n",
            " [4. ]\n",
            " [1.1]\n",
            " [4. ]\n",
            " [6.7]\n",
            " [5.5]\n",
            " [1.2]\n",
            " [5.9]\n",
            " [3. ]\n",
            " [1.7]\n",
            " [4.9]\n",
            " [5.1]\n",
            " [1.5]\n",
            " [5.9]\n",
            " [3.9]\n",
            " [3.6]\n",
            " [5.5]\n",
            " [1.4]\n",
            " [5.1]\n",
            " [5.1]\n",
            " [5.4]\n",
            " [1.9]\n",
            " [5.8]\n",
            " [6. ]\n",
            " [1.7]\n",
            " [1.9]\n",
            " [5.6]\n",
            " [1.6]\n",
            " [4.4]\n",
            " [5.7]\n",
            " [1.5]\n",
            " [4.4]]\n"
          ]
        }
      ]
    },
    {
      "cell_type": "markdown",
      "source": [
        "Train a model"
      ],
      "metadata": {
        "id": "O3QZ9pJcjt5U"
      }
    },
    {
      "cell_type": "code",
      "source": [
        "from sklearn.linear_model import LinearRegression\n",
        "regressor=LinearRegression();\n",
        "regressor.fit(x_train,y_train)\n",
        "print(regressor.intercept_)\n",
        "print(regressor.coef_)"
      ],
      "metadata": {
        "colab": {
          "base_uri": "https://localhost:8080/"
        },
        "id": "HbefsMCrjsrJ",
        "outputId": "1bf645fd-b4d1-46a6-f9a9-137d9861eb5f"
      },
      "execution_count": 60,
      "outputs": [
        {
          "output_type": "stream",
          "name": "stdout",
          "text": [
            "[-0.36101345]\n",
            "[[0.41113783]]\n"
          ]
        }
      ]
    },
    {
      "cell_type": "code",
      "source": [
        "# predict\n",
        "score= regressor.predict([[7.5]])\n",
        "print(score)"
      ],
      "metadata": {
        "colab": {
          "base_uri": "https://localhost:8080/"
        },
        "id": "iIDmle4Aykxf",
        "outputId": "4f79f14f-c232-4483-b398-af042931a36a"
      },
      "execution_count": 61,
      "outputs": [
        {
          "output_type": "stream",
          "name": "stdout",
          "text": [
            "[[2.72252026]]\n"
          ]
        }
      ]
    },
    {
      "cell_type": "code",
      "source": [
        "def calc(slope,intercept,value):\n",
        "  return slope*value+intercept"
      ],
      "metadata": {
        "id": "FRezSxC0zCVn"
      },
      "execution_count": 62,
      "outputs": []
    },
    {
      "cell_type": "code",
      "source": [
        "score =calc(regressor.coef_,regressor.intercept_,7.5)\n",
        "print(score)"
      ],
      "metadata": {
        "colab": {
          "base_uri": "https://localhost:8080/"
        },
        "id": "W9u70reMzOgf",
        "outputId": "b5eac499-5c5f-4d40-a369-26527b06eae6"
      },
      "execution_count": 63,
      "outputs": [
        {
          "output_type": "stream",
          "name": "stdout",
          "text": [
            "[[2.72252026]]\n"
          ]
        }
      ]
    },
    {
      "cell_type": "code",
      "source": [
        "y_pred=regressor.predict(x_test);\n",
        "def_prep=pd.DataFrame({'Actual':y_test.squeeze(),\"predicted\": y_pred.squeeze()})\n",
        "print(def_prep)"
      ],
      "metadata": {
        "colab": {
          "base_uri": "https://localhost:8080/"
        },
        "id": "5EurhXCw49p5",
        "outputId": "341fe767-ec8a-4b43-92ef-90393fbecd21"
      },
      "execution_count": 64,
      "outputs": [
        {
          "output_type": "stream",
          "name": "stdout",
          "text": [
            "    Actual  predicted\n",
            "0      1.2   1.365765\n",
            "1      2.0   1.776903\n",
            "2      2.5   1.982472\n",
            "3      1.4   1.571334\n",
            "4      1.7   1.694676\n",
            "5      0.2   0.214580\n",
            "6      1.8   2.229155\n",
            "7      1.5   1.489107\n",
            "8      2.0   2.270269\n",
            "9      1.9   1.735789\n",
            "10     1.8   1.653562\n",
            "11     1.7   1.489107\n",
            "12     2.0   1.735789\n",
            "13     2.1   1.859131\n",
            "14     2.3   1.776903\n",
            "15     1.3   1.365765\n",
            "16     1.3   1.530221\n",
            "17     1.4   1.447993\n",
            "18     0.3   0.173466\n",
            "19     0.3   0.214580\n",
            "20     1.2   1.571334\n",
            "21     2.2   1.941358\n",
            "22     2.3   1.818017\n",
            "23     0.3   0.214580\n",
            "24     0.2   0.214580\n",
            "25     1.4   1.242424\n",
            "26     1.8   1.900245\n",
            "27     1.8   1.612448\n",
            "28     0.2   0.173466\n",
            "29     2.4   1.941358\n"
          ]
        }
      ]
    },
    {
      "cell_type": "code",
      "source": [
        "# evalating the model\n",
        "\n",
        "from sklearn.metrics import mean_absolute_error,mean_squared_error\n",
        "import numpy as np\n",
        "\n",
        "mse=mean_squared_error(y_test,y_pred)\n",
        "mae=mean_absolute_error(y_test,y_pred)\n",
        "rmse=np.sqrt(mse)\n",
        "print(mae)\n",
        "print(mse)\n",
        "print(rmse)\n"
      ],
      "metadata": {
        "colab": {
          "base_uri": "https://localhost:8080/"
        },
        "id": "st1XMWw662Eh",
        "outputId": "efdc2e60-c6be-4a31-915c-f7e13562c625"
      },
      "execution_count": 65,
      "outputs": [
        {
          "output_type": "stream",
          "name": "stdout",
          "text": [
            "0.20187013769928056\n",
            "0.06450033401699073\n",
            "0.2539691595784629\n"
          ]
        }
      ]
    }
  ]
}